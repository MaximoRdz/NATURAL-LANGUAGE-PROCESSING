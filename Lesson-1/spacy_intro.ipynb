{
 "cells": [
  {
   "cell_type": "code",
   "execution_count": 70,
   "metadata": {},
   "outputs": [],
   "source": [
    "import spacy\n",
    "from spacy import displacy"
   ]
  },
  {
   "cell_type": "code",
   "execution_count": 7,
   "metadata": {},
   "outputs": [],
   "source": [
    "nlp = spacy.load(\"en_core_web_sm\")"
   ]
  },
  {
   "cell_type": "code",
   "execution_count": 56,
   "metadata": {},
   "outputs": [
    {
     "name": "stdout",
     "output_type": "stream",
     "text": [
      "--  Carlos III University of Madrid (UC3M) is a public university based in Getafe, in the Community of Madrid (Spain).\n",
      "--  It was founded by Gregorio Peces-Barba on May 5, 1989, under the framework of the University Reform Law of 1983.\n",
      "--  UC3M offers undergraduate and postgraduate studies in Social Sciences and Law; Humanities, Communication, and Documentation; and Engineering, as well as a degree in Sciences.\n",
      "--  It ranks 35th worldwide and is 12th in Europe in the QS ranking of the top 50 universities in the world under 50 years old and is included in the THE academic university rankings.\n",
      "--  UC3M also stands out for the high employability of its graduates, which reaches 90.6%.\n"
     ]
    }
   ],
   "source": [
    "text = \"\"\"Carlos III University of Madrid (UC3M) is a public university based in Getafe, in the Community of Madrid (Spain). It was founded by Gregorio Peces-Barba on May 5, 1989, under the framework of the University Reform Law of 1983. UC3M offers undergraduate and postgraduate studies in Social Sciences and Law; Humanities, Communication, and Documentation; and Engineering, as well as a degree in Sciences. It ranks 35th worldwide and is 12th in Europe in the QS ranking of the top 50 universities in the world under 50 years old and is included in the THE academic university rankings. UC3M also stands out for the high employability of its graduates, which reaches 90.6%.\"\"\"\n",
    "\n",
    "document = nlp(text)\n",
    "for s in document.sents:\n",
    "    print(\"-- \", s)"
   ]
  },
  {
   "cell_type": "code",
   "execution_count": 57,
   "metadata": {},
   "outputs": [
    {
     "name": "stdout",
     "output_type": "stream",
     "text": [
      "Token           Lemma           POS        Tag        Dep             Shape           Is_Stop   \n",
      "Carlos          Carlos          PROPN      NNP        compound        Xxxxx           False     \n",
      "III             III             PROPN      NNP        compound        XXX             False     \n",
      "University      University      PROPN      NNP        nsubj           Xxxxx           False     \n",
      "of              of              ADP        IN         prep            xx              True      \n",
      "Madrid          Madrid          PROPN      NNP        pobj            Xxxxx           False     \n",
      "(               (               PUNCT      -LRB-      punct           (               False     \n",
      "UC3             UC3             PROPN      NNP        compound        XXd             False     \n",
      "M               M               PROPN      NNP        appos           X               False     \n",
      ")               )               PUNCT      -RRB-      punct           )               False     \n",
      "is              be              AUX        VBZ        ROOT            xx              True      \n",
      "a               a               DET        DT         det             x               True      \n",
      "public          public          ADJ        JJ         amod            xxxx            False     \n",
      "university      university      NOUN       NN         attr            xxxx            False     \n",
      "based           base            VERB       VBN        acl             xxxx            False     \n",
      "in              in              ADP        IN         prep            xx              True      \n",
      "Getafe          Getafe          PROPN      NNP        pobj            Xxxxx           False     \n",
      ",               ,               PUNCT      ,          punct           ,               False     \n",
      "in              in              ADP        IN         prep            xx              True      \n",
      "the             the             DET        DT         det             xxx             True      \n",
      "Community       Community       PROPN      NNP        pobj            Xxxxx           False     \n",
      "of              of              ADP        IN         prep            xx              True      \n",
      "Madrid          Madrid          PROPN      NNP        pobj            Xxxxx           False     \n",
      "(               (               PUNCT      -LRB-      punct           (               False     \n",
      "Spain           Spain           PROPN      NNP        appos           Xxxxx           False     \n",
      ")               )               PUNCT      -RRB-      punct           )               False     \n",
      ".               .               PUNCT      .          punct           .               False     \n",
      "It              it              PRON       PRP        nsubjpass       Xx              True      \n",
      "was             be              AUX        VBD        auxpass         xxx             True      \n",
      "founded         found           VERB       VBN        ROOT            xxxx            False     \n",
      "by              by              ADP        IN         agent           xx              True      \n",
      "Gregorio        Gregorio        PROPN      NNP        compound        Xxxxx           False     \n",
      "Peces           Peces           PROPN      NNP        compound        Xxxxx           False     \n",
      "-               -               PUNCT      HYPH       punct           -               False     \n",
      "Barba           Barba           PROPN      NNP        pobj            Xxxxx           False     \n",
      "on              on              ADP        IN         prep            xx              True      \n",
      "May             May             PROPN      NNP        pobj            Xxx             True      \n",
      "5               5               NUM        CD         nummod          d               False     \n",
      ",               ,               PUNCT      ,          punct           ,               False     \n",
      "1989            1989            NUM        CD         nummod          dddd            False     \n",
      ",               ,               PUNCT      ,          punct           ,               False     \n",
      "under           under           ADP        IN         prep            xxxx            True      \n",
      "the             the             DET        DT         det             xxx             True      \n",
      "framework       framework       NOUN       NN         pobj            xxxx            False     \n",
      "of              of              ADP        IN         prep            xx              True      \n",
      "the             the             DET        DT         det             xxx             True      \n",
      "University      University      PROPN      NNP        compound        Xxxxx           False     \n",
      "Reform          Reform          PROPN      NNP        compound        Xxxxx           False     \n",
      "Law             Law             PROPN      NNP        pobj            Xxx             False     \n",
      "of              of              ADP        IN         prep            xx              True      \n",
      "1983            1983            NUM        CD         pobj            dddd            False     \n",
      ".               .               PUNCT      .          punct           .               False     \n",
      "UC3             UC3             PROPN      NNP        compound        XXd             False     \n",
      "M               M               PROPN      NNP        nsubj           X               False     \n",
      "offers          offer           VERB       VBZ        ROOT            xxxx            False     \n",
      "undergraduate   undergraduate   ADJ        JJ         amod            xxxx            False     \n",
      "and             and             CCONJ      CC         cc              xxx             True      \n",
      "postgraduate    postgraduate    ADJ        JJ         conj            xxxx            False     \n",
      "studies         study           NOUN       NNS        dobj            xxxx            False     \n",
      "in              in              ADP        IN         prep            xx              True      \n",
      "Social          Social          PROPN      NNP        compound        Xxxxx           False     \n",
      "Sciences        Sciences        PROPN      NNPS       pobj            Xxxxx           False     \n",
      "and             and             CCONJ      CC         cc              xxx             True      \n",
      "Law             Law             PROPN      NNP        conj            Xxx             False     \n",
      ";               ;               PUNCT      :          punct           ;               False     \n",
      "Humanities      Humanities      PROPN      NNPS       conj            Xxxxx           False     \n",
      ",               ,               PUNCT      ,          punct           ,               False     \n",
      "Communication   Communication   PROPN      NNP        conj            Xxxxx           False     \n",
      ",               ,               PUNCT      ,          punct           ,               False     \n",
      "and             and             CCONJ      CC         cc              xxx             True      \n",
      "Documentation   documentation   NOUN       NN         conj            Xxxxx           False     \n",
      ";               ;               PUNCT      :          punct           ;               False     \n",
      "and             and             CCONJ      CC         cc              xxx             True      \n",
      "Engineering     Engineering     PROPN      NNP        conj            Xxxxx           False     \n",
      ",               ,               PUNCT      ,          punct           ,               False     \n",
      "as              as              ADV        RB         advmod          xx              True      \n",
      "well            well            ADV        RB         advmod          xxxx            True      \n",
      "as              as              ADP        IN         cc              xx              True      \n",
      "a               a               DET        DT         det             x               True      \n",
      "degree          degree          NOUN       NN         conj            xxxx            False     \n",
      "in              in              ADP        IN         prep            xx              True      \n",
      "Sciences        Sciences        PROPN      NNPS       pobj            Xxxxx           False     \n",
      ".               .               PUNCT      .          punct           .               False     \n",
      "It              it              PRON       PRP        nsubj           Xx              True      \n",
      "ranks           rank            VERB       VBZ        ROOT            xxxx            False     \n",
      "35th            35th            ADV        RB         advmod          ddxx            False     \n",
      "worldwide       worldwide       ADV        RB         advmod          xxxx            False     \n",
      "and             and             CCONJ      CC         cc              xxx             True      \n",
      "is              be              AUX        VBZ        conj            xx              True      \n",
      "12th            12th            NOUN       NN         attr            ddxx            False     \n",
      "in              in              ADP        IN         prep            xx              True      \n",
      "Europe          Europe          PROPN      NNP        pobj            Xxxxx           False     \n",
      "in              in              ADP        IN         prep            xx              True      \n",
      "the             the             DET        DT         det             xxx             True      \n",
      "QS              QS              PROPN      NNP        compound        XX              False     \n",
      "ranking         ranking         NOUN       NN         pobj            xxxx            False     \n",
      "of              of              ADP        IN         prep            xx              True      \n",
      "the             the             DET        DT         det             xxx             True      \n",
      "top             top             ADJ        JJ         amod            xxx             True      \n",
      "50              50              NUM        CD         nummod          dd              False     \n",
      "universities    university      NOUN       NNS        pobj            xxxx            False     \n",
      "in              in              ADP        IN         prep            xx              True      \n",
      "the             the             DET        DT         det             xxx             True      \n",
      "world           world           NOUN       NN         pobj            xxxx            False     \n",
      "under           under           ADP        IN         prep            xxxx            True      \n",
      "50              50              NUM        CD         nummod          dd              False     \n",
      "years           year            NOUN       NNS        npadvmod        xxxx            False     \n",
      "old             old             ADJ        JJ         amod            xxx             False     \n",
      "and             and             CCONJ      CC         cc              xxx             True      \n",
      "is              be              AUX        VBZ        auxpass         xx              True      \n",
      "included        include         VERB       VBN        conj            xxxx            False     \n",
      "in              in              ADP        IN         prep            xx              True      \n",
      "the             the             DET        DT         det             xxx             True      \n",
      "THE             the             DET        DT         det             XXX             True      \n",
      "academic        academic        ADJ        JJ         amod            xxxx            False     \n",
      "university      university      NOUN       NN         compound        xxxx            False     \n",
      "rankings        ranking         NOUN       NNS        pobj            xxxx            False     \n",
      ".               .               PUNCT      .          punct           .               False     \n",
      "UC3             UC3             PROPN      NNP        compound        XXd             False     \n",
      "M               M               PROPN      NNP        nsubj           X               False     \n",
      "also            also            ADV        RB         advmod          xxxx            True      \n",
      "stands          stand           VERB       VBZ        ROOT            xxxx            False     \n",
      "out             out             ADP        RP         prt             xxx             True      \n",
      "for             for             ADP        IN         prep            xxx             True      \n",
      "the             the             DET        DT         det             xxx             True      \n",
      "high            high            ADJ        JJ         amod            xxxx            False     \n",
      "employability   employability   NOUN       NN         pobj            xxxx            False     \n",
      "of              of              ADP        IN         prep            xx              True      \n",
      "its             its             PRON       PRP$       poss            xxx             True      \n",
      "graduates       graduate        NOUN       NNS        pobj            xxxx            False     \n",
      ",               ,               PUNCT      ,          punct           ,               False     \n",
      "which           which           PRON       WDT        nsubj           xxxx            True      \n",
      "reaches         reach           VERB       VBZ        relcl           xxxx            False     \n",
      "90.6            90.6            NUM        CD         nummod          dd.d            False     \n",
      "%               %               NOUN       NN         dobj            %               False     \n",
      ".               .               PUNCT      .          punct           .               False     \n"
     ]
    }
   ],
   "source": [
    "header = [\"Token\", \"Lemma\", \"POS\", \"Tag\", \"Dep\", \"Shape\", \"Is_Stop\"]\n",
    "\n",
    "# Print the header with increased spacing\n",
    "print(f\"{'Token':<15} {'Lemma':<15} {'POS':<10} {'Tag':<10} {'Dep':<15} {'Shape':<15} {'Is_Stop':<10}\")\n",
    "\n",
    "# Print each token's information with increased spacing\n",
    "for token in document:\n",
    "    print(f\"{token.text:<15} {token.lemma_:<15} {token.pos_:<10} {token.tag_:<10} {token.dep_:<15} {token.shape_:<15} {str(token.is_stop):<10}\")"
   ]
  },
  {
   "cell_type": "code",
   "execution_count": 69,
   "metadata": {},
   "outputs": [
    {
     "data": {
      "text/plain": [
       "Carlos III University of Madrid (UC3M) is a public university based in Getafe, in the Community of Madrid (Spain)."
      ]
     },
     "execution_count": 69,
     "metadata": {},
     "output_type": "execute_result"
    }
   ],
   "source": [
    "sentence = document.sents\n",
    "sample = sentence.__next__()\n",
    "sample"
   ]
  },
  {
   "cell_type": "code",
   "execution_count": 80,
   "metadata": {},
   "outputs": [
    {
     "name": "stdout",
     "output_type": "stream",
     "text": [
      "\n",
      "text chunks:  Carlos III University\n",
      "root text:  University\n",
      "\n",
      "text chunks:  a public university\n",
      "root text:  university\n",
      "\n",
      "text chunks:  Getafe\n",
      "root text:  Getafe\n"
     ]
    }
   ],
   "source": [
    "text = \"Carlos III University is a public university based in Getafe.\"\n",
    "doc = nlp(text)\n",
    "\n",
    "for chunk in doc.noun_chunks:\n",
    "    print()\n",
    "    print(\"text chunks: \", chunk.text)\n",
    "    print(\"root text: \", chunk.root.text)"
   ]
  },
  {
   "cell_type": "code",
   "execution_count": 81,
   "metadata": {},
   "outputs": [
    {
     "data": {
      "text/html": [
       "<span class=\"tex2jax_ignore\"><svg xmlns=\"http://www.w3.org/2000/svg\" xmlns:xlink=\"http://www.w3.org/1999/xlink\" xml:lang=\"en\" id=\"f99b9b64de794cacac1bc411c5c08c9e-0\" class=\"displacy\" width=\"1800\" height=\"399.5\" direction=\"ltr\" style=\"max-width: none; height: 399.5px; color: #000000; background: #ffffff; font-family: Arial; direction: ltr\">\n",
       "<text class=\"displacy-token\" fill=\"currentColor\" text-anchor=\"middle\" y=\"309.5\">\n",
       "    <tspan class=\"displacy-word\" fill=\"currentColor\" x=\"50\">Carlos</tspan>\n",
       "    <tspan class=\"displacy-tag\" dy=\"2em\" fill=\"currentColor\" x=\"50\">PROPN</tspan>\n",
       "</text>\n",
       "\n",
       "<text class=\"displacy-token\" fill=\"currentColor\" text-anchor=\"middle\" y=\"309.5\">\n",
       "    <tspan class=\"displacy-word\" fill=\"currentColor\" x=\"225\">III</tspan>\n",
       "    <tspan class=\"displacy-tag\" dy=\"2em\" fill=\"currentColor\" x=\"225\">PROPN</tspan>\n",
       "</text>\n",
       "\n",
       "<text class=\"displacy-token\" fill=\"currentColor\" text-anchor=\"middle\" y=\"309.5\">\n",
       "    <tspan class=\"displacy-word\" fill=\"currentColor\" x=\"400\">University</tspan>\n",
       "    <tspan class=\"displacy-tag\" dy=\"2em\" fill=\"currentColor\" x=\"400\">PROPN</tspan>\n",
       "</text>\n",
       "\n",
       "<text class=\"displacy-token\" fill=\"currentColor\" text-anchor=\"middle\" y=\"309.5\">\n",
       "    <tspan class=\"displacy-word\" fill=\"currentColor\" x=\"575\">is</tspan>\n",
       "    <tspan class=\"displacy-tag\" dy=\"2em\" fill=\"currentColor\" x=\"575\">AUX</tspan>\n",
       "</text>\n",
       "\n",
       "<text class=\"displacy-token\" fill=\"currentColor\" text-anchor=\"middle\" y=\"309.5\">\n",
       "    <tspan class=\"displacy-word\" fill=\"currentColor\" x=\"750\">a</tspan>\n",
       "    <tspan class=\"displacy-tag\" dy=\"2em\" fill=\"currentColor\" x=\"750\">DET</tspan>\n",
       "</text>\n",
       "\n",
       "<text class=\"displacy-token\" fill=\"currentColor\" text-anchor=\"middle\" y=\"309.5\">\n",
       "    <tspan class=\"displacy-word\" fill=\"currentColor\" x=\"925\">public</tspan>\n",
       "    <tspan class=\"displacy-tag\" dy=\"2em\" fill=\"currentColor\" x=\"925\">ADJ</tspan>\n",
       "</text>\n",
       "\n",
       "<text class=\"displacy-token\" fill=\"currentColor\" text-anchor=\"middle\" y=\"309.5\">\n",
       "    <tspan class=\"displacy-word\" fill=\"currentColor\" x=\"1100\">university</tspan>\n",
       "    <tspan class=\"displacy-tag\" dy=\"2em\" fill=\"currentColor\" x=\"1100\">NOUN</tspan>\n",
       "</text>\n",
       "\n",
       "<text class=\"displacy-token\" fill=\"currentColor\" text-anchor=\"middle\" y=\"309.5\">\n",
       "    <tspan class=\"displacy-word\" fill=\"currentColor\" x=\"1275\">based</tspan>\n",
       "    <tspan class=\"displacy-tag\" dy=\"2em\" fill=\"currentColor\" x=\"1275\">VERB</tspan>\n",
       "</text>\n",
       "\n",
       "<text class=\"displacy-token\" fill=\"currentColor\" text-anchor=\"middle\" y=\"309.5\">\n",
       "    <tspan class=\"displacy-word\" fill=\"currentColor\" x=\"1450\">in</tspan>\n",
       "    <tspan class=\"displacy-tag\" dy=\"2em\" fill=\"currentColor\" x=\"1450\">ADP</tspan>\n",
       "</text>\n",
       "\n",
       "<text class=\"displacy-token\" fill=\"currentColor\" text-anchor=\"middle\" y=\"309.5\">\n",
       "    <tspan class=\"displacy-word\" fill=\"currentColor\" x=\"1625\">Getafe.</tspan>\n",
       "    <tspan class=\"displacy-tag\" dy=\"2em\" fill=\"currentColor\" x=\"1625\">PROPN</tspan>\n",
       "</text>\n",
       "\n",
       "<g class=\"displacy-arrow\">\n",
       "    <path class=\"displacy-arc\" id=\"arrow-f99b9b64de794cacac1bc411c5c08c9e-0-0\" stroke-width=\"2px\" d=\"M70,264.5 C70,89.5 395.0,89.5 395.0,264.5\" fill=\"none\" stroke=\"currentColor\"/>\n",
       "    <text dy=\"1.25em\" style=\"font-size: 0.8em; letter-spacing: 1px\">\n",
       "        <textPath xlink:href=\"#arrow-f99b9b64de794cacac1bc411c5c08c9e-0-0\" class=\"displacy-label\" startOffset=\"50%\" side=\"left\" fill=\"currentColor\" text-anchor=\"middle\">compound</textPath>\n",
       "    </text>\n",
       "    <path class=\"displacy-arrowhead\" d=\"M70,266.5 L62,254.5 78,254.5\" fill=\"currentColor\"/>\n",
       "</g>\n",
       "\n",
       "<g class=\"displacy-arrow\">\n",
       "    <path class=\"displacy-arc\" id=\"arrow-f99b9b64de794cacac1bc411c5c08c9e-0-1\" stroke-width=\"2px\" d=\"M245,264.5 C245,177.0 390.0,177.0 390.0,264.5\" fill=\"none\" stroke=\"currentColor\"/>\n",
       "    <text dy=\"1.25em\" style=\"font-size: 0.8em; letter-spacing: 1px\">\n",
       "        <textPath xlink:href=\"#arrow-f99b9b64de794cacac1bc411c5c08c9e-0-1\" class=\"displacy-label\" startOffset=\"50%\" side=\"left\" fill=\"currentColor\" text-anchor=\"middle\">compound</textPath>\n",
       "    </text>\n",
       "    <path class=\"displacy-arrowhead\" d=\"M245,266.5 L237,254.5 253,254.5\" fill=\"currentColor\"/>\n",
       "</g>\n",
       "\n",
       "<g class=\"displacy-arrow\">\n",
       "    <path class=\"displacy-arc\" id=\"arrow-f99b9b64de794cacac1bc411c5c08c9e-0-2\" stroke-width=\"2px\" d=\"M420,264.5 C420,177.0 565.0,177.0 565.0,264.5\" fill=\"none\" stroke=\"currentColor\"/>\n",
       "    <text dy=\"1.25em\" style=\"font-size: 0.8em; letter-spacing: 1px\">\n",
       "        <textPath xlink:href=\"#arrow-f99b9b64de794cacac1bc411c5c08c9e-0-2\" class=\"displacy-label\" startOffset=\"50%\" side=\"left\" fill=\"currentColor\" text-anchor=\"middle\">nsubj</textPath>\n",
       "    </text>\n",
       "    <path class=\"displacy-arrowhead\" d=\"M420,266.5 L412,254.5 428,254.5\" fill=\"currentColor\"/>\n",
       "</g>\n",
       "\n",
       "<g class=\"displacy-arrow\">\n",
       "    <path class=\"displacy-arc\" id=\"arrow-f99b9b64de794cacac1bc411c5c08c9e-0-3\" stroke-width=\"2px\" d=\"M770,264.5 C770,89.5 1095.0,89.5 1095.0,264.5\" fill=\"none\" stroke=\"currentColor\"/>\n",
       "    <text dy=\"1.25em\" style=\"font-size: 0.8em; letter-spacing: 1px\">\n",
       "        <textPath xlink:href=\"#arrow-f99b9b64de794cacac1bc411c5c08c9e-0-3\" class=\"displacy-label\" startOffset=\"50%\" side=\"left\" fill=\"currentColor\" text-anchor=\"middle\">det</textPath>\n",
       "    </text>\n",
       "    <path class=\"displacy-arrowhead\" d=\"M770,266.5 L762,254.5 778,254.5\" fill=\"currentColor\"/>\n",
       "</g>\n",
       "\n",
       "<g class=\"displacy-arrow\">\n",
       "    <path class=\"displacy-arc\" id=\"arrow-f99b9b64de794cacac1bc411c5c08c9e-0-4\" stroke-width=\"2px\" d=\"M945,264.5 C945,177.0 1090.0,177.0 1090.0,264.5\" fill=\"none\" stroke=\"currentColor\"/>\n",
       "    <text dy=\"1.25em\" style=\"font-size: 0.8em; letter-spacing: 1px\">\n",
       "        <textPath xlink:href=\"#arrow-f99b9b64de794cacac1bc411c5c08c9e-0-4\" class=\"displacy-label\" startOffset=\"50%\" side=\"left\" fill=\"currentColor\" text-anchor=\"middle\">amod</textPath>\n",
       "    </text>\n",
       "    <path class=\"displacy-arrowhead\" d=\"M945,266.5 L937,254.5 953,254.5\" fill=\"currentColor\"/>\n",
       "</g>\n",
       "\n",
       "<g class=\"displacy-arrow\">\n",
       "    <path class=\"displacy-arc\" id=\"arrow-f99b9b64de794cacac1bc411c5c08c9e-0-5\" stroke-width=\"2px\" d=\"M595,264.5 C595,2.0 1100.0,2.0 1100.0,264.5\" fill=\"none\" stroke=\"currentColor\"/>\n",
       "    <text dy=\"1.25em\" style=\"font-size: 0.8em; letter-spacing: 1px\">\n",
       "        <textPath xlink:href=\"#arrow-f99b9b64de794cacac1bc411c5c08c9e-0-5\" class=\"displacy-label\" startOffset=\"50%\" side=\"left\" fill=\"currentColor\" text-anchor=\"middle\">attr</textPath>\n",
       "    </text>\n",
       "    <path class=\"displacy-arrowhead\" d=\"M1100.0,266.5 L1108.0,254.5 1092.0,254.5\" fill=\"currentColor\"/>\n",
       "</g>\n",
       "\n",
       "<g class=\"displacy-arrow\">\n",
       "    <path class=\"displacy-arc\" id=\"arrow-f99b9b64de794cacac1bc411c5c08c9e-0-6\" stroke-width=\"2px\" d=\"M1120,264.5 C1120,177.0 1265.0,177.0 1265.0,264.5\" fill=\"none\" stroke=\"currentColor\"/>\n",
       "    <text dy=\"1.25em\" style=\"font-size: 0.8em; letter-spacing: 1px\">\n",
       "        <textPath xlink:href=\"#arrow-f99b9b64de794cacac1bc411c5c08c9e-0-6\" class=\"displacy-label\" startOffset=\"50%\" side=\"left\" fill=\"currentColor\" text-anchor=\"middle\">acl</textPath>\n",
       "    </text>\n",
       "    <path class=\"displacy-arrowhead\" d=\"M1265.0,266.5 L1273.0,254.5 1257.0,254.5\" fill=\"currentColor\"/>\n",
       "</g>\n",
       "\n",
       "<g class=\"displacy-arrow\">\n",
       "    <path class=\"displacy-arc\" id=\"arrow-f99b9b64de794cacac1bc411c5c08c9e-0-7\" stroke-width=\"2px\" d=\"M1295,264.5 C1295,177.0 1440.0,177.0 1440.0,264.5\" fill=\"none\" stroke=\"currentColor\"/>\n",
       "    <text dy=\"1.25em\" style=\"font-size: 0.8em; letter-spacing: 1px\">\n",
       "        <textPath xlink:href=\"#arrow-f99b9b64de794cacac1bc411c5c08c9e-0-7\" class=\"displacy-label\" startOffset=\"50%\" side=\"left\" fill=\"currentColor\" text-anchor=\"middle\">prep</textPath>\n",
       "    </text>\n",
       "    <path class=\"displacy-arrowhead\" d=\"M1440.0,266.5 L1448.0,254.5 1432.0,254.5\" fill=\"currentColor\"/>\n",
       "</g>\n",
       "\n",
       "<g class=\"displacy-arrow\">\n",
       "    <path class=\"displacy-arc\" id=\"arrow-f99b9b64de794cacac1bc411c5c08c9e-0-8\" stroke-width=\"2px\" d=\"M1470,264.5 C1470,177.0 1615.0,177.0 1615.0,264.5\" fill=\"none\" stroke=\"currentColor\"/>\n",
       "    <text dy=\"1.25em\" style=\"font-size: 0.8em; letter-spacing: 1px\">\n",
       "        <textPath xlink:href=\"#arrow-f99b9b64de794cacac1bc411c5c08c9e-0-8\" class=\"displacy-label\" startOffset=\"50%\" side=\"left\" fill=\"currentColor\" text-anchor=\"middle\">pobj</textPath>\n",
       "    </text>\n",
       "    <path class=\"displacy-arrowhead\" d=\"M1615.0,266.5 L1623.0,254.5 1607.0,254.5\" fill=\"currentColor\"/>\n",
       "</g>\n",
       "</svg></span>"
      ],
      "text/plain": [
       "<IPython.core.display.HTML object>"
      ]
     },
     "metadata": {},
     "output_type": "display_data"
    }
   ],
   "source": [
    "displacy.render(doc, jupyter=True, style=\"dep\")"
   ]
  },
  {
   "cell_type": "markdown",
   "metadata": {},
   "source": [
    "### Entities identification"
   ]
  },
  {
   "cell_type": "code",
   "execution_count": 87,
   "metadata": {},
   "outputs": [
    {
     "name": "stdout",
     "output_type": "stream",
     "text": [
      "entity               text                 label                start                end                 \n",
      "Carlos III University Carlos III University ORG                  0                    21                  \n",
      "Getafe               Getafe               GPE                  54                   60                  \n"
     ]
    }
   ],
   "source": [
    "header = [\"entity\", \"text\", \"label\", \"start\", \"end\"]\n",
    "\n",
    "# Print the header with increased spacing\n",
    "print(f\"{'entity':<20} {'text':<20} {'label':<20} {'start':<20} {'end':<20}\")\n",
    "\n",
    "# Print each token's information with increased spacing\n",
    "for e in doc.ents:\n",
    "    print(f\"{str(e):<20} {e.text:<20} {e.label_:<20} {e.start_char:<20} {e.end_char:<20}\")"
   ]
  },
  {
   "cell_type": "code",
   "execution_count": 88,
   "metadata": {},
   "outputs": [
    {
     "data": {
      "text/html": [
       "<span class=\"tex2jax_ignore\"><div class=\"entities\" style=\"line-height: 2.5; direction: ltr\">\n",
       "<mark class=\"entity\" style=\"background: #7aecec; padding: 0.45em 0.6em; margin: 0 0.25em; line-height: 1; border-radius: 0.35em;\">\n",
       "    Carlos III University\n",
       "    <span style=\"font-size: 0.8em; font-weight: bold; line-height: 1; border-radius: 0.35em; vertical-align: middle; margin-left: 0.5rem\">ORG</span>\n",
       "</mark>\n",
       " is a public university based in \n",
       "<mark class=\"entity\" style=\"background: #feca74; padding: 0.45em 0.6em; margin: 0 0.25em; line-height: 1; border-radius: 0.35em;\">\n",
       "    Getafe\n",
       "    <span style=\"font-size: 0.8em; font-weight: bold; line-height: 1; border-radius: 0.35em; vertical-align: middle; margin-left: 0.5rem\">GPE</span>\n",
       "</mark>\n",
       ".</div></span>"
      ],
      "text/plain": [
       "<IPython.core.display.HTML object>"
      ]
     },
     "metadata": {},
     "output_type": "display_data"
    }
   ],
   "source": [
    "displacy.render(doc, jupyter=True, style=\"ent\")"
   ]
  }
 ],
 "metadata": {
  "kernelspec": {
   "display_name": "Python 3",
   "language": "python",
   "name": "python3"
  },
  "language_info": {
   "codemirror_mode": {
    "name": "ipython",
    "version": 3
   },
   "file_extension": ".py",
   "mimetype": "text/x-python",
   "name": "python",
   "nbconvert_exporter": "python",
   "pygments_lexer": "ipython3",
   "version": "3.10.11"
  }
 },
 "nbformat": 4,
 "nbformat_minor": 2
}
